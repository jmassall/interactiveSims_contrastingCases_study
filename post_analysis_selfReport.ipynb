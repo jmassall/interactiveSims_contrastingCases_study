{
 "cells": [
  {
   "cell_type": "code",
   "execution_count": 391,
   "metadata": {},
   "outputs": [],
   "source": [
    "import pandas as pd\n",
    "import numpy as np\n",
    "import seaborn as sns\n",
    "import matplotlib.pyplot as plt\n",
    "import matplotlib\n",
    "%matplotlib inline\n",
    "matplotlib.rcParams['figure.figsize'] = (10, 3)"
   ]
  },
  {
   "cell_type": "code",
   "execution_count": 590,
   "metadata": {},
   "outputs": [],
   "source": [
    "def csv2df(csvfile, i):\n",
    "    print csvfile\n",
    "    df = pd.read_csv(csvfile, sep=',')\n",
    "    df = df.astype(str) \n",
    "    #delete any data point that have 2 blanks for now - these are absent students\n",
    "    df = df[(df['q1']!='BLANK') & (df['q2']!='BLANK')]\n",
    "    suffix = ['_a' + str(i+1) for j in range(df.shape[1]-1)]\n",
    "    newNames = df.columns[1:]+suffix\n",
    "    df.rename(columns = dict(zip(df.columns[1:], newNames)), inplace = True)\n",
    "    return df"
   ]
  },
  {
   "cell_type": "code",
   "execution_count": 591,
   "metadata": {},
   "outputs": [
    {
     "name": "stdout",
     "output_type": "stream",
     "text": [
      "data/act1-post.csv\n",
      "data/act2-post.csv\n",
      "data/act3-post.csv\n",
      "data/act4-post.csv\n",
      "data/act5-post.csv\n"
     ]
    }
   ],
   "source": [
    "dfs = {}\n",
    "wd = 'data/'\n",
    "csvfiles = [wd+'act' + str(i) + '-post.csv' for i in np.arange(5)+1]\n",
    "for i, csvfile in enumerate(csvfiles):\n",
    "    dfs[i+1] = csv2df(csvfile, i)"
   ]
  },
  {
   "cell_type": "code",
   "execution_count": 592,
   "metadata": {},
   "outputs": [
    {
     "name": "stdout",
     "output_type": "stream",
     "text": [
      "[262, 241, 259, 229, 243]\n"
     ]
    }
   ],
   "source": [
    "attendance = [len(dfs[i]) for i in dfs.keys()]\n",
    "print attendance"
   ]
  },
  {
   "cell_type": "code",
   "execution_count": 593,
   "metadata": {},
   "outputs": [],
   "source": [
    "#merge dataframes on student id for self-report questions\n",
    "# sra = pd.merge(dfs[2], dfs[3], how='outer', left_on=['student id_a2'], right_on=['student id_a3'])\n",
    "# srb = pd.merge(dfs[4], dfs[5], how='outer', left_on=['student id_a4'], right_on=['student id_a5'])\n",
    "sra = pd.merge(dfs[1], dfs[2], how='outer', on=['student id'])\n",
    "srb = pd.merge(dfs[3], dfs[4], how='outer', on=['student id'])\n",
    "src = pd.merge(sra, srb, how='outer', on=['student id'])\n",
    "srd = pd.merge(src, dfs[5], how='outer', on=['student id'])"
   ]
  },
  {
   "cell_type": "code",
   "execution_count": 594,
   "metadata": {},
   "outputs": [
    {
     "data": {
      "text/plain": [
       "(318, 34)"
      ]
     },
     "execution_count": 594,
     "metadata": {},
     "output_type": "execute_result"
    }
   ],
   "source": [
    "srd.shape"
   ]
  },
  {
   "cell_type": "code",
   "execution_count": 595,
   "metadata": {},
   "outputs": [
    {
     "name": "stdout",
     "output_type": "stream",
     "text": [
      "(318, 2)\n",
      "(334, 36)\n",
      "(305, 36)\n"
     ]
    }
   ],
   "source": [
    "def findCondition(row):\n",
    "    section = row['Section'].split()[-1][-1]\n",
    "    if section in cond2sect['SIM']:\n",
    "        return 'SIM'\n",
    "    elif section in cond2sect['DATA']:\n",
    "        return 'DATA'\n",
    "    else:\n",
    "        error('section not found')\n",
    "\n",
    "df1 = pd.read_csv(wd+'subjects.csv', sep=',')\n",
    "cond2sect = {'SIM':'B D E H J'.split(),'DATA':'A C F G I'.split()};\n",
    "df1['Condition'] = df1.apply(lambda row: findCondition(row), axis=1)\n",
    "df1 = df1[['SIS User ID', 'Condition']]\n",
    "df1 = df1.astype(str) \n",
    "sr = pd.merge(srd, df1, how='outer', left_on=['student id'], right_on=['SIS User ID'])\n",
    "\n",
    "print df1.shape\n",
    "print sr.shape\n",
    "#for now ignore student ID errors that do not match Canvas record\n",
    "sr = sr[~sr['SIS User ID'].isnull()]\n",
    "sr = sr[~sr['student id'].isnull()]\n",
    "print sr.shape"
   ]
  },
  {
   "cell_type": "code",
   "execution_count": 685,
   "metadata": {},
   "outputs": [
    {
     "name": "stdout",
     "output_type": "stream",
     "text": [
      "Answer          SD         D         N         A        SA\n",
      "Activity                                                  \n",
      "q1_a1     0.022901  0.106870  0.385496  0.427481  0.057252\n",
      "q1_a2     0.021459  0.047210  0.274678  0.476395  0.180258\n",
      "q1_a3     0.003861  0.030888  0.293436  0.544402  0.127413\n",
      "q1_a4     0.021645  0.116883  0.376623  0.389610  0.095238\n",
      "q1_a5     0.036585  0.093496  0.406504  0.369919  0.093496\n"
     ]
    },
    {
     "data": {
      "text/plain": [
       "(1, 5)"
      ]
     },
     "execution_count": 685,
     "metadata": {},
     "output_type": "execute_result"
    },
    {
     "data": {
      "image/png": "[encoded data removed]",
      "text/plain": [
       "<Figure size 720x216 with 1 Axes>"
      ]
     },
     "metadata": {},
     "output_type": "display_data"
    }
   ],
   "source": [
    "questions1 = ['q1_a1', 'q1_a2','q1_a3','q1_a4','q1_a5']\n",
    "q1sr = pd.melt(sr, id_vars=['student id'], value_vars=questions1, \n",
    "               var_name='Activity', value_name='Answer')\n",
    "results = q1sr.groupby(['Activity', 'Answer']).size().unstack().fillna(0)\n",
    "#rename to Likert scale\n",
    "results.rename(columns = dict(zip(results.columns, ['SA','A','N','D','SD'])), inplace = True)\n",
    "#reverse so that left is SD and right is SA\n",
    "results = results.loc[:,::-1]\n",
    "#normalize to 1 so that can easily compare in diverging stacked histogram\n",
    "results = results.apply(lambda row: row/row.sum(), axis=1)\n",
    "print results\n",
    "#adding offset column for plotting stacked histogram\n",
    "middles = results[[\"SD\", \"D\"]].sum(axis=1)+results[\"N\"]*.5\n",
    "complete_longest = results[:].sum(axis=1)\n",
    "longest = middles.max()\n",
    "offset = (middles - longest).abs()\n",
    "results.insert(0, 'offset', offset)\n",
    "\n",
    "numerize = dict(zip('A B C D E F'.split(), [5,4,3,2,1,np.NaN]))\n",
    "#for now set 'blanks' to 0, same with student id mismatch that create NaN entries\n",
    "q1sr['Answer'] = q1sr['Answer'].fillna('F')\n",
    "q1sr['answer numeric'] = q1sr.apply(lambda row: numerize[row['Answer']], axis=1)\n",
    "# print q1sr.loc[q1sr['answer numeric'].isnull(),:]\n",
    "\n",
    "x = xerr = y = []\n",
    "for i,question in enumerate(questions1):\n",
    "    y = y + [i+1]\n",
    "    x = x + [q1sr.loc[q1sr['Activity']==question,'answer numeric'].mean(skipna=True)]\n",
    "    xerr = xerr + [q1sr.loc[q1sr['Activity']==question,'answer numeric'].std(skipna=True)]\n",
    "\n",
    "plt.figure()\n",
    "plt.errorbar(x, y, xerr=xerr, fmt='o')\n",
    "plt.xlim((1,5)) "
   ]
  },
  {
   "cell_type": "code",
   "execution_count": 686,
   "metadata": {},
   "outputs": [
    {
     "data": {
      "text/plain": [
       "([<matplotlib.axis.XTick at 0x1a20760410>,\n",
       "  <matplotlib.axis.XTick at 0x1a23924e10>,\n",
       "  <matplotlib.axis.XTick at 0x1a2392d590>,\n",
       "  <matplotlib.axis.XTick at 0x1a2392dad0>,\n",
       "  <matplotlib.axis.XTick at 0x1a23936090>,\n",
       "  <matplotlib.axis.XTick at 0x1a23936610>,\n",
       "  <matplotlib.axis.XTick at 0x1a23936b90>,\n",
       "  <matplotlib.axis.XTick at 0x1a23941150>,\n",
       "  <matplotlib.axis.XTick at 0x1a20822d10>,\n",
       "  <matplotlib.axis.XTick at 0x1a23941ed0>],\n",
       " <a list of 10 Text xticklabel objects>)"
      ]
     },
     "execution_count": 686,
     "metadata": {},
     "output_type": "execute_result"
    },
    {
     "data": {
      "image/png": "[encoded data removed]",
      "text/plain": [
       "<Figure size 720x216 with 1 Axes>"
      ]
     },
     "metadata": {},
     "output_type": "display_data"
    }
   ],
   "source": [
    "likert_colors = ['white', 'firebrick','lightcoral','gainsboro','cornflowerblue', 'darkblue']\n",
    "ax = results.plot.barh(stacked=True, color=likert_colors, edgecolor='none', legend=False)\n",
    "ax2 = plt.axvline(longest, linestyle='--', color='black', alpha=.5)\n",
    "ax2.set_zorder(-1)\n",
    "\n",
    "for i, v in enumerate(offset):\n",
    "    ax.text(v + 1.025, i-0.1, str(attendance[i]), color='k')\n",
    "\n",
    "ax.set_yticklabels(['1','2','3','4','5'])\n",
    "plt.xlabel('Fraction of total students')\n",
    "xvalues1 = np.arange(-longest/2,longest+longest/2,longest/2)\n",
    "xvalues2 = np.arange(longest,1.4,longest/2)\n",
    "xvalues = np.append(xvalues1,xvalues2[1:])\n",
    "xlabels = [str(abs(round(x-longest,1))) for x in xvalues]\n",
    "plt.xticks(xvalues, xlabels)\n"
   ]
  },
  {
   "cell_type": "code",
   "execution_count": 672,
   "metadata": {},
   "outputs": [
    {
     "name": "stdout",
     "output_type": "stream",
     "text": [
      "Answer          SD         D         N         A        SA\n",
      "Activity                                                  \n",
      "q2_a1     0.019084  0.053435  0.278626  0.541985  0.106870\n",
      "q2_a2     0.017167  0.060086  0.167382  0.527897  0.227468\n",
      "q2_a3     0.000000  0.011583  0.104247  0.687259  0.196911\n",
      "q2_a4     0.047619  0.116883  0.251082  0.467532  0.116883\n",
      "q2_a5     0.060976  0.252033  0.292683  0.308943  0.085366\n"
     ]
    },
    {
     "data": {
      "text/plain": [
       "(1, 5)"
      ]
     },
     "execution_count": 672,
     "metadata": {},
     "output_type": "execute_result"
    },
    {
     "data": {
      "image/png": "[encoded data removed]",
      "text/plain": [
       "<Figure size 720x216 with 1 Axes>"
      ]
     },
     "metadata": {},
     "output_type": "display_data"
    }
   ],
   "source": [
    "questions2 = ['q2_a1', 'q2_a2','q2_a3','q2_a4','q2_a5']\n",
    "q1sr = pd.melt(sr, id_vars=['student id'], value_vars=questions2, \n",
    "               var_name='Activity', value_name='Answer')\n",
    "results = q1sr.groupby(['Activity', 'Answer']).size().unstack().fillna(0)\n",
    "#rename to Likert scale\n",
    "results.rename(columns = dict(zip(results.columns, ['SA','A','N','D','SD'])), inplace = True)\n",
    "#reverse so that left is SD and right is SA\n",
    "results = results.loc[:,::-1]\n",
    "#normalize to 1 so that can easily compare in diverging stacked histogram\n",
    "results = results.apply(lambda row: row/row.sum(), axis=1)\n",
    "print results\n",
    "#adding offset column for plotting stacked histogram\n",
    "middles = results[[\"SD\", \"D\"]].sum(axis=1)+results[\"N\"]*.5\n",
    "complete_longest = results[:].sum(axis=1)\n",
    "longest = middles.max()\n",
    "offset = (middles - longest).abs()\n",
    "results.insert(0, 'offset', offset)\n",
    "\n",
    "numerize = dict(zip('A B C D E F'.split(), [5,4,3,2,1,np.NaN]))\n",
    "#for now set 'blanks' to 0, same with student id mismatch that create NaN entries\n",
    "q1sr['Answer'] = q1sr['Answer'].fillna('F')\n",
    "q1sr['answer numeric'] = q1sr.apply(lambda row: numerize[row['Answer']], axis=1)\n",
    "# print q1sr.loc[q1sr['answer numeric'].isnull(),:]\n",
    "\n",
    "x = xerr = y = []\n",
    "for i,question in enumerate(questions2):\n",
    "    y = y + [i+1]\n",
    "    x = x + [q1sr.loc[q1sr['Activity']==question,'answer numeric'].mean(skipna=True)]\n",
    "    xerr = xerr + [q1sr.loc[q1sr['Activity']==question,'answer numeric'].std(skipna=True)]\n",
    "\n",
    "plt.figure()\n",
    "plt.errorbar(x, y, xerr=xerr, fmt='o')\n",
    "plt.xlim((1,5)) "
   ]
  },
  {
   "cell_type": "code",
   "execution_count": 525,
   "metadata": {},
   "outputs": [
    {
     "data": {
      "text/plain": [
       "([<matplotlib.axis.XTick at 0x1a217d68d0>,\n",
       "  <matplotlib.axis.XTick at 0x1a21859190>,\n",
       "  <matplotlib.axis.XTick at 0x1a218598d0>,\n",
       "  <matplotlib.axis.XTick at 0x1a21859e10>,\n",
       "  <matplotlib.axis.XTick at 0x1a21859ad0>,\n",
       "  <matplotlib.axis.XTick at 0x1a2184fc50>,\n",
       "  <matplotlib.axis.XTick at 0x1a21844790>,\n",
       "  <matplotlib.axis.XTick at 0x1a218624d0>,\n",
       "  <matplotlib.axis.XTick at 0x1a21862a50>],\n",
       " <a list of 9 Text xticklabel objects>)"
      ]
     },
     "execution_count": 525,
     "metadata": {},
     "output_type": "execute_result"
    },
    {
     "data": {
      "image/png": "[encoded data removed]",
      "text/plain": [
       "<Figure size 720x216 with 1 Axes>"
      ]
     },
     "metadata": {},
     "output_type": "display_data"
    }
   ],
   "source": [
    "likert_colors = ['white', 'firebrick','lightcoral','gainsboro','cornflowerblue', 'darkblue']\n",
    "ax = results.plot.barh(stacked=True, color=likert_colors, edgecolor='none', legend=False)\n",
    "ax2 = plt.axvline(longest, linestyle='--', color='black', alpha=.5)\n",
    "ax2.set_zorder(-1)\n",
    "\n",
    "for i, v in enumerate(offset):\n",
    "    ax.text(v + 1.025, i-0.1, str(attendance[i]), color='k')\n",
    "\n",
    "ax.set_yticklabels(['1','2','3','4','5'])\n",
    "plt.xlabel('Fraction of total students')\n",
    "xvalues1 = np.arange(-longest/2,longest+longest/2,longest/2)\n",
    "xvalues2 = np.arange(longest,1.7,longest/2)\n",
    "xvalues = np.append(xvalues1,xvalues2[1:])\n",
    "xlabels = [str(abs(round(x-longest,1))) for x in xvalues]\n",
    "plt.xticks(xvalues, xlabels)\n"
   ]
  },
  {
   "cell_type": "markdown",
   "metadata": {},
   "source": [
    "### Per conditions"
   ]
  },
  {
   "cell_type": "code",
   "execution_count": 677,
   "metadata": {},
   "outputs": [
    {
     "data": {
      "text/plain": [
       "([<matplotlib.axis.XTick at 0x1a232b0250>,\n",
       "  <matplotlib.axis.XTick at 0x1a223edd50>,\n",
       "  <matplotlib.axis.XTick at 0x1a223ed8d0>,\n",
       "  <matplotlib.axis.XTick at 0x1a223e7390>,\n",
       "  <matplotlib.axis.XTick at 0x1a22b32390>,\n",
       "  <matplotlib.axis.XTick at 0x1a22b32910>,\n",
       "  <matplotlib.axis.XTick at 0x1a22b32e90>,\n",
       "  <matplotlib.axis.XTick at 0x1a22b1c450>,\n",
       "  <matplotlib.axis.XTick at 0x1a232afb10>,\n",
       "  <matplotlib.axis.XTick at 0x1a22b32510>,\n",
       "  <matplotlib.axis.XTick at 0x1a22b34dd0>],\n",
       " <a list of 11 Text xticklabel objects>)"
      ]
     },
     "execution_count": 677,
     "metadata": {},
     "output_type": "execute_result"
    },
    {
     "data": {
      "image/png": "[encoded data removed]",
      "text/plain": [
       "<Figure size 720x216 with 1 Axes>"
      ]
     },
     "metadata": {},
     "output_type": "display_data"
    }
   ],
   "source": [
    "q1srD = pd.melt(sr[sr['Condition']=='DATA'], id_vars=['student id'], value_vars=questions1, \n",
    "               var_name='Activity (DATA condition)', value_name='Answer')\n",
    "results = q1srD.groupby(['Activity (DATA condition)', 'Answer']).size().unstack().fillna(0)\n",
    "#rename to Likert scale\n",
    "results.rename(columns = dict(zip(results.columns, ['SA','A','N','D','SD'])), inplace = True)\n",
    "#reverse so that left is SD and right is SA\n",
    "results = results.loc[:,::-1]\n",
    "#normalize to 1 so that can easily compare in diverging stacked histogram\n",
    "attendance_condition = results.sum(axis=1)\n",
    "results = results.apply(lambda row: row/row.sum(), axis=1)\n",
    "#adding offset column for plotting stacked histogram\n",
    "middles = results[[\"SD\", \"D\"]].sum(axis=1)+results[\"N\"]*.5\n",
    "complete_longest = results[:].sum(axis=1)\n",
    "longest = middles.max()\n",
    "offset = (middles - longest).abs()\n",
    "results.insert(0, 'offset', offset)\n",
    "ax = results.plot.barh(stacked=True, color=likert_colors, edgecolor='none', legend=False)\n",
    "ax2 = plt.axvline(longest, linestyle='--', color='black', alpha=.5)\n",
    "ax2.set_zorder(-1)\n",
    "\n",
    "for i, v in enumerate(offset):\n",
    "    ax.text(v + 1.025, i-0.1, str(attendance_condition[i]), color='k')\n",
    "\n",
    "ax.set_yticklabels(['1','2','3','4','5'])\n",
    "plt.xlabel('Fraction of total students')\n",
    "xvalues1 = np.arange(-longest/2,longest+longest/2,longest/2)\n",
    "xvalues2 = np.arange(longest,1.7,longest/2)\n",
    "xvalues = np.append(xvalues1,xvalues2[1:])\n",
    "xlabels = [str(abs(round(x-longest,1))) for x in xvalues]\n",
    "plt.xticks(xvalues, xlabels)"
   ]
  },
  {
   "cell_type": "code",
   "execution_count": 678,
   "metadata": {},
   "outputs": [
    {
     "data": {
      "text/plain": [
       "([<matplotlib.axis.XTick at 0x1a221de2d0>,\n",
       "  <matplotlib.axis.XTick at 0x1a22501c50>,\n",
       "  <matplotlib.axis.XTick at 0x1a23846fd0>,\n",
       "  <matplotlib.axis.XTick at 0x1a22526e50>,\n",
       "  <matplotlib.axis.XTick at 0x1a2247e410>,\n",
       "  <matplotlib.axis.XTick at 0x1a2247e990>,\n",
       "  <matplotlib.axis.XTick at 0x1a2247ef10>,\n",
       "  <matplotlib.axis.XTick at 0x1a224884d0>,\n",
       "  <matplotlib.axis.XTick at 0x1a221e5490>,\n",
       "  <matplotlib.axis.XTick at 0x1a2251b790>,\n",
       "  <matplotlib.axis.XTick at 0x1a22492b50>],\n",
       " <a list of 11 Text xticklabel objects>)"
      ]
     },
     "execution_count": 678,
     "metadata": {},
     "output_type": "execute_result"
    },
    {
     "data": {
      "image/png": "[encoded data removed]",
      "text/plain": [
       "<Figure size 720x216 with 1 Axes>"
      ]
     },
     "metadata": {},
     "output_type": "display_data"
    }
   ],
   "source": [
    "q1srS = pd.melt(sr[sr['Condition']=='SIM'], id_vars=['student id'], value_vars=questions1, \n",
    "               var_name='Activity (SIM condition)', value_name='Answer')\n",
    "results = q1srS.groupby(['Activity (SIM condition)', 'Answer']).size().unstack().fillna(0)\n",
    "#rename to Likert scale\n",
    "results.rename(columns = dict(zip(results.columns, ['SA','A','N','D','SD'])), inplace = True)\n",
    "#reverse so that left is SD and right is SA\n",
    "results = results.loc[:,::-1]\n",
    "#normalize to 1 so that can easily compare in diverging stacked histogram\n",
    "attendance_condition = results.sum(axis=1)\n",
    "results = results.apply(lambda row: row/row.sum(), axis=1)\n",
    "#adding offset column for plotting stacked histogram\n",
    "middles = results[[\"SD\", \"D\"]].sum(axis=1)+results[\"N\"]*.5\n",
    "complete_longest = results[:].sum(axis=1)\n",
    "longest = middles.max()\n",
    "offset = (middles - longest).abs()\n",
    "results.insert(0, 'offset', offset)\n",
    "ax = results.plot.barh(stacked=True, color=likert_colors, edgecolor='none', legend=False)\n",
    "ax2 = plt.axvline(longest, linestyle='--', color='black', alpha=.5)\n",
    "ax2.set_zorder(-1)\n",
    "\n",
    "for i, v in enumerate(offset):\n",
    "    ax.text(v + 1.025, i-0.1, str(attendance_condition[i]), color='k')\n",
    "\n",
    "ax.set_yticklabels(['1','2','3','4','5'])\n",
    "plt.xlabel('Fraction of total students')\n",
    "xvalues1 = np.arange(-longest/2,longest+longest/2,longest/2)\n",
    "xvalues2 = np.arange(longest,1.7,longest/2)\n",
    "xvalues = np.append(xvalues1,xvalues2[1:])\n",
    "xlabels = [str(abs(round(x-longest,1))) for x in xvalues]\n",
    "plt.xticks(xvalues, xlabels)"
   ]
  },
  {
   "cell_type": "code",
   "execution_count": 679,
   "metadata": {},
   "outputs": [],
   "source": [
    "q1srS['Answer'] = q1srS['Answer'].fillna('F')\n",
    "q1srS['answer numeric'] = q1srS.apply(lambda row: numerize[row['Answer']], axis=1)\n",
    "# print q1sr.loc[q1sr['answer numeric'].isnull(),:]\n",
    "\n",
    "xS = xerrS = yS = []\n",
    "for i,question in enumerate(questions1):\n",
    "    yS = yS + [i+1]\n",
    "    xS = xS + [q1srS.loc[q1srS['Activity (SIM condition)']==question,'answer numeric'].mean(skipna=True)]\n",
    "    xerrS = xerrS + [q1srS.loc[q1srS['Activity (SIM condition)']==question,'answer numeric'].std(skipna=True)]\n",
    "\n"
   ]
  },
  {
   "cell_type": "code",
   "execution_count": 680,
   "metadata": {},
   "outputs": [
    {
     "data": {
      "text/plain": [
       "(1, 5)"
      ]
     },
     "execution_count": 680,
     "metadata": {},
     "output_type": "execute_result"
    },
    {
     "data": {
      "image/png": "[encoded data removed]",
      "text/plain": [
       "<Figure size 720x216 with 1 Axes>"
      ]
     },
     "metadata": {},
     "output_type": "display_data"
    }
   ],
   "source": [
    "q1srD['Answer'] = q1srD['Answer'].fillna('F')\n",
    "q1srD['answer numeric'] = q1srD.apply(lambda row: numerize[row['Answer']], axis=1)\n",
    "# print q1sr.loc[q1sr['answer numeric'].isnull(),:]\n",
    "\n",
    "xD = xerrD = yD = []\n",
    "for i,question in enumerate(questions1):\n",
    "    yD = yD + [i+1]\n",
    "    xD = xD + [q1srD.loc[q1srD['Activity (DATA condition)']==question,'answer numeric'].mean(skipna=True)]\n",
    "    xerrD = xerrD + [q1srD.loc[q1srD['Activity (DATA condition)']==question,'answer numeric'].std(skipna=True)]\n",
    "\n",
    "plt.figure()\n",
    "plt.errorbar(xD, yD, xerr=xerrD, fmt='ro', alpha=0.7)\n",
    "plt.errorbar(xS, yS, xerr=xerrD, fmt='bo', alpha=0.7)\n",
    "plt.xlim((1,5)) "
   ]
  },
  {
   "cell_type": "code",
   "execution_count": 681,
   "metadata": {},
   "outputs": [
    {
     "data": {
      "text/plain": [
       "([<matplotlib.axis.XTick at 0x1a222968d0>,\n",
       "  <matplotlib.axis.XTick at 0x1a1f008e90>,\n",
       "  <matplotlib.axis.XTick at 0x1a1effce10>,\n",
       "  <matplotlib.axis.XTick at 0x1a1f013250>,\n",
       "  <matplotlib.axis.XTick at 0x1a1f0139d0>,\n",
       "  <matplotlib.axis.XTick at 0x1a1f013f50>,\n",
       "  <matplotlib.axis.XTick at 0x1a1f01c510>,\n",
       "  <matplotlib.axis.XTick at 0x1a1f01ca90>,\n",
       "  <matplotlib.axis.XTick at 0x1a1f025050>,\n",
       "  <matplotlib.axis.XTick at 0x1a22296150>],\n",
       " <a list of 10 Text xticklabel objects>)"
      ]
     },
     "execution_count": 681,
     "metadata": {},
     "output_type": "execute_result"
    },
    {
     "data": {
      "image/png": "[encoded data removed]",
      "text/plain": [
       "<Figure size 720x216 with 1 Axes>"
      ]
     },
     "metadata": {},
     "output_type": "display_data"
    }
   ],
   "source": [
    "q1srD = pd.melt(sr[sr['Condition']=='DATA'], id_vars=['student id'], value_vars=questions2, \n",
    "               var_name='Activity (DATA condition)', value_name='Answer')\n",
    "results = q1srD.groupby(['Activity (DATA condition)', 'Answer']).size().unstack().fillna(0)\n",
    "#rename to Likert scale\n",
    "results.rename(columns = dict(zip(results.columns, ['SA','A','N','D','SD'])), inplace = True)\n",
    "#reverse so that left is SD and right is SA\n",
    "results = results.loc[:,::-1]\n",
    "#normalize to 1 so that can easily compare in diverging stacked histogram\n",
    "attendance_condition = results.sum(axis=1)\n",
    "results = results.apply(lambda row: row/row.sum(), axis=1)\n",
    "#adding offset column for plotting stacked histogram\n",
    "middles = results[[\"SD\", \"D\"]].sum(axis=1)+results[\"N\"]*.5\n",
    "complete_longest = results[:].sum(axis=1)\n",
    "longest = middles.max()\n",
    "offset = (middles - longest).abs()\n",
    "results.insert(0, 'offset', offset)\n",
    "ax = results.plot.barh(stacked=True, color=likert_colors, edgecolor='none', legend=False)\n",
    "ax2 = plt.axvline(longest, linestyle='--', color='black', alpha=.5)\n",
    "ax2.set_zorder(-1)\n",
    "\n",
    "for i, v in enumerate(offset):\n",
    "    ax.text(v + 1.025, i-0.1, str(attendance_condition[i]), color='k')\n",
    "\n",
    "ax.set_yticklabels(['1','2','3','4','5'])\n",
    "plt.xlabel('Fraction of total students')\n",
    "xvalues1 = np.arange(-longest/2,longest+longest/2,longest/2)\n",
    "xvalues2 = np.arange(longest,1.7,longest/2)\n",
    "xvalues = np.append(xvalues1,xvalues2[1:])\n",
    "xlabels = [str(abs(round(x-longest,1))) for x in xvalues]\n",
    "plt.xticks(xvalues, xlabels)"
   ]
  },
  {
   "cell_type": "code",
   "execution_count": 682,
   "metadata": {},
   "outputs": [
    {
     "data": {
      "text/plain": [
       "([<matplotlib.axis.XTick at 0x1a1f057350>,\n",
       "  <matplotlib.axis.XTick at 0x1a1f877890>,\n",
       "  <matplotlib.axis.XTick at 0x1a1f8a9e50>,\n",
       "  <matplotlib.axis.XTick at 0x1a1f8b2090>,\n",
       "  <matplotlib.axis.XTick at 0x1a1f8b2610>,\n",
       "  <matplotlib.axis.XTick at 0x1a1f8b2b90>,\n",
       "  <matplotlib.axis.XTick at 0x1a1f8bb150>,\n",
       "  <matplotlib.axis.XTick at 0x1a1f8bb6d0>],\n",
       " <a list of 8 Text xticklabel objects>)"
      ]
     },
     "execution_count": 682,
     "metadata": {},
     "output_type": "execute_result"
    },
    {
     "data": {
      "image/png": "[encoded data removed]",
      "text/plain": [
       "<Figure size 720x216 with 1 Axes>"
      ]
     },
     "metadata": {},
     "output_type": "display_data"
    }
   ],
   "source": [
    "q1srS = pd.melt(sr[sr['Condition']=='SIM'], id_vars=['student id'], value_vars=questions2, \n",
    "               var_name='Activity (SIM condition)', value_name='Answer')\n",
    "results = q1srS.groupby(['Activity (SIM condition)', 'Answer']).size().unstack().fillna(0)\n",
    "#rename to Likert scale\n",
    "results.rename(columns = dict(zip(results.columns, ['SA','A','N','D','SD'])), inplace = True)\n",
    "#reverse so that left is SD and right is SA\n",
    "results = results.loc[:,::-1]\n",
    "#normalize to 1 so that can easily compare in diverging stacked histogram\n",
    "attendance_condition = results.sum(axis=1)\n",
    "results = results.apply(lambda row: row/row.sum(), axis=1)\n",
    "#adding offset column for plotting stacked histogram\n",
    "middles = results[[\"SD\", \"D\"]].sum(axis=1)+results[\"N\"]*.5\n",
    "complete_longest = results[:].sum(axis=1)\n",
    "longest = middles.max()\n",
    "offset = (middles - longest).abs()\n",
    "results.insert(0, 'offset', offset)\n",
    "ax = results.plot.barh(stacked=True, color=likert_colors, edgecolor='none', legend=False)\n",
    "ax2 = plt.axvline(longest, linestyle='--', color='black', alpha=.5)\n",
    "ax2.set_zorder(-1)\n",
    "\n",
    "for i, v in enumerate(offset):\n",
    "    ax.text(v + 1.025, i-0.1, str(attendance_condition[i]), color='k')\n",
    "\n",
    "ax.set_yticklabels(['1','2','3','4','5'])\n",
    "plt.xlabel('Fraction of total students')\n",
    "xvalues1 = np.arange(-longest/2,longest+longest/2,longest/2)\n",
    "xvalues2 = np.arange(longest,1.7,longest/2)\n",
    "xvalues = np.append(xvalues1,xvalues2[1:])\n",
    "xlabels = [str(abs(round(x-longest,1))) for x in xvalues]\n",
    "plt.xticks(xvalues, xlabels)"
   ]
  },
  {
   "cell_type": "code",
   "execution_count": 683,
   "metadata": {},
   "outputs": [],
   "source": [
    "q1srS['Answer'] = q1srS['Answer'].fillna('F')\n",
    "q1srS['answer numeric'] = q1srS.apply(lambda row: numerize[row['Answer']], axis=1)\n",
    "# print q1sr.loc[q1sr['answer numeric'].isnull(),:]\n",
    "\n",
    "xS = xerrS = yS = []\n",
    "for i,question in enumerate(questions2):\n",
    "    yS = yS + [i+1]\n",
    "    xS = xS + [q1srS.loc[q1srS['Activity (SIM condition)']==question,'answer numeric'].mean(skipna=True)]\n",
    "    xerrS = xerrS + [q1srS.loc[q1srS['Activity (SIM condition)']==question,'answer numeric'].std(skipna=True)]\n",
    "    "
   ]
  },
  {
   "cell_type": "code",
   "execution_count": 684,
   "metadata": {},
   "outputs": [
    {
     "data": {
      "text/plain": [
       "(1, 5)"
      ]
     },
     "execution_count": 684,
     "metadata": {},
     "output_type": "execute_result"
    },
    {
     "data": {
      "image/png": "[encoded data removed]",
      "text/plain": [
       "<Figure size 720x216 with 1 Axes>"
      ]
     },
     "metadata": {},
     "output_type": "display_data"
    }
   ],
   "source": [
    "q1srD['Answer'] = q1srD['Answer'].fillna('F')\n",
    "q1srD['answer numeric'] = q1srD.apply(lambda row: numerize[row['Answer']], axis=1)\n",
    "# print q1sr.loc[q1sr['answer numeric'].isnull(),:]\n",
    "\n",
    "xD = xerrD = yD = []\n",
    "for i,question in enumerate(questions2):\n",
    "    yD = yD + [i+1]\n",
    "    xD = xD + [q1srD.loc[q1srD['Activity (DATA condition)']==question,'answer numeric'].mean(skipna=True)]\n",
    "    xerrD = xerrD + [q1srD.loc[q1srD['Activity (DATA condition)']==question,'answer numeric'].std(skipna=True)]\n",
    "\n",
    "plt.figure()\n",
    "plt.errorbar(xD, yD, xerr=xerrD, fmt='ro', alpha=0.7)\n",
    "plt.errorbar(xS, yS, xerr=xerrD, fmt='bo', alpha=0.7)\n",
    "plt.xlim((1,5)) "
   ]
  },
  {
   "cell_type": "code",
   "execution_count": null,
   "metadata": {},
   "outputs": [],
   "source": []
  }
 ],
 "metadata": {
  "kernelspec": {
   "display_name": "Python [conda env:anaconda]",
   "language": "python",
   "name": "conda-env-anaconda-py"
  },
  "language_info": {
   "codemirror_mode": {
    "name": "ipython",
    "version": 2
   },
   "file_extension": ".py",
   "mimetype": "text/x-python",
   "name": "python",
   "nbconvert_exporter": "python",
   "pygments_lexer": "ipython2",
   "version": "2.7.14"
  }
 },
 "nbformat": 4,
 "nbformat_minor": 2
}
